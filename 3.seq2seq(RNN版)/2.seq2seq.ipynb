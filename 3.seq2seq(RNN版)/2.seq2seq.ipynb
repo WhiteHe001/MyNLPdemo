{
 "cells": [
  {
   "cell_type": "markdown",
   "source": [
    "# 这一版不知道为什么效果比较好？？。。。很迷"
   ],
   "metadata": {
    "collapsed": false,
    "pycharm": {
     "name": "#%% md\n"
    }
   }
  },
  {
   "cell_type": "code",
   "execution_count": 7,
   "outputs": [],
   "source": [
    "\n",
    "import torch\n",
    "import numpy as np\n",
    "import torch.nn as nn\n",
    "import torch.utils.data as Data\n",
    "\n",
    "device = torch.device('cuda' if torch.cuda.is_available() else 'cpu')\n",
    "# S: Symbol that shows starting of decoding input\n",
    "# E: Symbol that shows starting of decoding output\n",
    "# ?: Symbol that will fill in blank sequence if current batch data size is short than n_step"
   ],
   "metadata": {
    "collapsed": false,
    "pycharm": {
     "name": "#%%\n"
    }
   }
  },
  {
   "cell_type": "code",
   "execution_count": 17,
   "outputs": [],
   "source": [
    "letter = [c for c in 'SE?abcdefghijklmnopqrstuvwxyz']\n",
    "letter2idx = {n: i for i, n in enumerate(letter)}\n",
    "\n",
    "seq_data = [['man', 'women'], ['black', 'white'], ['king', 'queen'],\n",
    "            ['girl', 'boy'], ['up', 'down'], ['high', 'low'],\n",
    "            ['cat', 'dog'], ['hello', 'world'], ['good', 'bye']]\n",
    "\n",
    "# Seq2Seq Parameter\n",
    "n_step = max([max(len(i), len(j)) for i, j in seq_data])  # max_len(=5)\n",
    "n_hidden = 128\n",
    "n_class = len(letter2idx)  # classfication problem\n",
    "batch_size = 3"
   ],
   "metadata": {
    "collapsed": false,
    "pycharm": {
     "name": "#%%\n"
    }
   }
  },
  {
   "cell_type": "code",
   "execution_count": 18,
   "outputs": [],
   "source": [
    "def make_data(seq_data):\n",
    "    enc_input_all, dec_input_all, dec_output_all = [], [], []\n",
    "\n",
    "    for seq in seq_data:\n",
    "        for i in range(2):\n",
    "            seq[i] = seq[i] + '?' * (n_step - len(seq[i]))  # 'man??', 'women'\n",
    "\n",
    "        enc_input = [letter2idx[n] for n in (seq[0] + 'E')]  # ['m', 'a', 'n', '?', '?', 'E']\n",
    "        dec_input = [letter2idx[n] for n in ('S' + seq[1])]  # ['S', 'w', 'o', 'm', 'e', 'n']\n",
    "        dec_output = [letter2idx[n] for n in (seq[1] + 'E')]  # ['w', 'o', 'm', 'e', 'n', 'E']\n",
    "\n",
    "        enc_input_all.append(np.eye(n_class)[enc_input])\n",
    "        dec_input_all.append(np.eye(n_class)[dec_input])\n",
    "        dec_output_all.append(dec_output)  # not one-hot\n",
    "\n",
    "    # make tensor\n",
    "    return torch.Tensor(enc_input_all), torch.Tensor(dec_input_all), torch.LongTensor(dec_output_all)"
   ],
   "metadata": {
    "collapsed": false,
    "pycharm": {
     "name": "#%%\n"
    }
   }
  },
  {
   "cell_type": "code",
   "execution_count": 19,
   "outputs": [],
   "source": [
    "enc_input_all, dec_input_all, dec_output_all = make_data(seq_data)"
   ],
   "metadata": {
    "collapsed": false,
    "pycharm": {
     "name": "#%%\n"
    }
   }
  },
  {
   "cell_type": "code",
   "execution_count": 20,
   "outputs": [],
   "source": [
    "class TranslateDataSet(Data.Dataset):\n",
    "    def __init__(self, enc_input_all, dec_input_all, dec_output_all):\n",
    "        self.enc_input_all = enc_input_all\n",
    "        self.dec_input_all = dec_input_all\n",
    "        self.dec_output_all = dec_output_all\n",
    "\n",
    "    def __len__(self):  # return dataset size\n",
    "        return len(self.enc_input_all)\n",
    "\n",
    "    def __getitem__(self, idx):\n",
    "        return self.enc_input_all[idx], self.dec_input_all[idx], self.dec_output_all[idx]"
   ],
   "metadata": {
    "collapsed": false,
    "pycharm": {
     "name": "#%%\n"
    }
   }
  },
  {
   "cell_type": "code",
   "execution_count": 21,
   "outputs": [],
   "source": [
    "loader = Data.DataLoader(TranslateDataSet(enc_input_all, dec_input_all, dec_output_all), batch_size, True)"
   ],
   "metadata": {
    "collapsed": false,
    "pycharm": {
     "name": "#%%\n"
    }
   }
  },
  {
   "cell_type": "code",
   "execution_count": 22,
   "outputs": [],
   "source": [
    "# Model\n",
    "class Seq2Seq(nn.Module):\n",
    "    def __init__(self):\n",
    "        super(Seq2Seq, self).__init__()\n",
    "        self.encoder = nn.RNN(input_size=n_class, hidden_size=n_hidden, dropout=0.5)  # encoder\n",
    "        self.decoder = nn.RNN(input_size=n_class, hidden_size=n_hidden, dropout=0.5)  # decoder\n",
    "        self.fc = nn.Linear(n_hidden, n_class)\n",
    "\n",
    "    def forward(self, enc_input, enc_hidden, dec_input):\n",
    "        # enc_input(=input_batch): [batch_size, n_step+1, n_class]\n",
    "        # dec_inpu(=output_batch): [batch_size, n_step+1, n_class]\n",
    "        enc_input = enc_input.transpose(0, 1)  # enc_input: [n_step+1, batch_size, n_class]\n",
    "        dec_input = dec_input.transpose(0, 1)  # dec_input: [n_step+1, batch_size, n_class]\n",
    "\n",
    "        # h_t : [num_layers(=1) * num_directions(=1), batch_size, n_hidden]\n",
    "        _, h_t = self.encoder(enc_input, enc_hidden)\n",
    "        # outputs : [n_step+1, batch_size, num_directions(=1) * n_hidden(=128)]\n",
    "        outputs, _ = self.decoder(dec_input, h_t)\n",
    "\n",
    "        model = self.fc(outputs)  # model : [n_step+1, batch_size, n_class]\n",
    "        return model\n"
   ],
   "metadata": {
    "collapsed": false,
    "pycharm": {
     "name": "#%%\n"
    }
   }
  },
  {
   "cell_type": "code",
   "execution_count": 23,
   "outputs": [],
   "source": [
    "model = Seq2Seq().to(device)\n",
    "criterion = nn.CrossEntropyLoss().to(device)\n",
    "optimizer = torch.optim.Adam(model.parameters(), lr=0.001)"
   ],
   "metadata": {
    "collapsed": false,
    "pycharm": {
     "name": "#%%\n"
    }
   }
  },
  {
   "cell_type": "code",
   "execution_count": 24,
   "outputs": [
    {
     "name": "stdout",
     "output_type": "stream",
     "text": [
      "Epoch: 1000 cost = 0.001746\n",
      "Epoch: 1000 cost = 0.001525\n",
      "Epoch: 1000 cost = 0.001937\n",
      "Epoch: 2000 cost = 0.000238\n",
      "Epoch: 2000 cost = 0.000277\n",
      "Epoch: 2000 cost = 0.000257\n",
      "Epoch: 3000 cost = 0.000050\n",
      "Epoch: 3000 cost = 0.000050\n",
      "Epoch: 3000 cost = 0.000053\n",
      "Epoch: 4000 cost = 0.000012\n",
      "Epoch: 4000 cost = 0.000011\n",
      "Epoch: 4000 cost = 0.000009\n",
      "Epoch: 5000 cost = 0.000002\n",
      "Epoch: 5000 cost = 0.000002\n",
      "Epoch: 5000 cost = 0.000002\n"
     ]
    }
   ],
   "source": [
    "for epoch in range(5000):\n",
    "    for enc_input_batch, dec_input_batch, dec_output_batch in loader:\n",
    "        # make hidden shape [num_layers * num_directions, batch_size, n_hidden]\n",
    "        h_0 = torch.zeros(1, batch_size, n_hidden).to(device)\n",
    "\n",
    "        (enc_input_batch, dec_intput_batch, dec_output_batch) = (\n",
    "        enc_input_batch.to(device), dec_input_batch.to(device), dec_output_batch.to(device))\n",
    "        # enc_input_batch : [batch_size, n_step+1, n_class]\n",
    "        # dec_intput_batch : [batch_size, n_step+1, n_class]\n",
    "        # dec_output_batch : [batch_size, n_step+1], not one-hot\n",
    "        pred = model(enc_input_batch, h_0, dec_intput_batch)\n",
    "        # pred : [n_step+1, batch_size, n_class]\n",
    "        pred = pred.transpose(0, 1)  # [batch_size, n_step+1(=6), n_class]\n",
    "        loss = 0\n",
    "        for i in range(len(dec_output_batch)):\n",
    "            # pred[i] : [n_step+1, n_class]\n",
    "            # dec_output_batch[i] : [n_step+1]\n",
    "            loss += criterion(pred[i], dec_output_batch[i])\n",
    "        if (epoch + 1) % 1000 == 0:\n",
    "            print('Epoch:', '%04d' % (epoch + 1), 'cost =', '{:.6f}'.format(loss))\n",
    "\n",
    "        optimizer.zero_grad()\n",
    "        loss.backward()\n",
    "        optimizer.step()"
   ],
   "metadata": {
    "collapsed": false,
    "pycharm": {
     "name": "#%%\n"
    }
   }
  },
  {
   "cell_type": "code",
   "execution_count": 29,
   "outputs": [
    {
     "name": "stdout",
     "output_type": "stream",
     "text": [
      "test\n",
      "man -> womenE\n",
      "mans -> womenE\n",
      "king -> queenE\n",
      "black -> whiteE\n",
      "up -> down?E\n",
      "hello -> worldE\n",
      "cat -> boy??E\n",
      "good -> bye??E\n"
     ]
    }
   ],
   "source": [
    "# Test\n",
    "def translate(word):\n",
    "    enc_input, dec_input, _ = make_data([[word, '?' * n_step]])\n",
    "    enc_input, dec_input = enc_input.to(device), dec_input.to(device)\n",
    "    # make hidden shape [num_layers * num_directions, batch_size, n_hidden]\n",
    "    hidden = torch.zeros(1, 1, n_hidden).to(device)\n",
    "    output = model(enc_input, hidden, dec_input)\n",
    "    # output : [n_step+1, batch_size, n_class]\n",
    "\n",
    "    predict = output.data.max(2, keepdim=True)[1]  # select n_class dimension\n",
    "    decoded = [letter[i] for i in predict]\n",
    "    translated = ''.join(decoded)\n",
    "    return translated\n",
    "\n",
    "# translated = ''.join(decoded[:decoded.index('E')])\n",
    "# return translated.replace('?', '')\n",
    "\n",
    "print('test')\n",
    "print('man ->', translate('man'))\n",
    "print('mans ->', translate('mans'))\n",
    "print('king ->', translate('king'))\n",
    "print('black ->', translate('black'))\n",
    "print('up ->', translate('up'))\n",
    "print('hello ->', translate('hello'))\n",
    "print('cat ->', translate('dog'))\n",
    "print('good ->', translate('good'))"
   ],
   "metadata": {
    "collapsed": false,
    "pycharm": {
     "name": "#%%\n"
    }
   }
  }
 ],
 "metadata": {
  "kernelspec": {
   "display_name": "Python 3",
   "language": "python",
   "name": "python3"
  },
  "language_info": {
   "codemirror_mode": {
    "name": "ipython",
    "version": 2
   },
   "file_extension": ".py",
   "mimetype": "text/x-python",
   "name": "python",
   "nbconvert_exporter": "python",
   "pygments_lexer": "ipython2",
   "version": "2.7.6"
  }
 },
 "nbformat": 4,
 "nbformat_minor": 0
}